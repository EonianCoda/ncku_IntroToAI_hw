{
 "cells": [
  {
   "cell_type": "code",
   "execution_count": 55,
   "metadata": {},
   "outputs": [],
   "source": [
    "import numpy as np\n",
    "from sklearn.neighbors import KNeighborsRegressor\n",
    "\n",
    "def least_square(y, x_mat):\n",
    "    a = x_mat.T.dot(x_mat)\n",
    "    b = x_mat.T.dot(y)\n",
    "    # print(a)\n",
    "    # print(b)\n",
    "    return np.linalg.solve(a,b)\n",
    "def build_poly(x, degree):\n",
    "    poly = np.ones((len(x), 1))\n",
    "    for deg in range(1, degree + 1):\n",
    "        poly = np.c_[poly, np.power(x, deg)]\n",
    "    return poly\n",
    "def mse_loss(a, b):\n",
    "    return np.mean((a - b) ** 2)\n",
    "\n",
    "\n",
    "seed = 456\n",
    "data_path = './data1.npz'\n",
    "data = np.load(data_path)\n",
    "x, y  = data['X'], data['y']\n",
    "np.random.seed(seed)\n",
    "np.random.shuffle(x)\n",
    "np.random.seed(seed)\n",
    "np.random.shuffle(y)\n",
    "\n",
    "if len(x.shape) == 1:\n",
    "    x = np.expand_dims(x, axis=1)\n",
    "if len(y.shape) == 1:\n",
    "    y = np.expand_dims(y, axis=1)\n",
    "\n",
    "split_ratio = 0.9\n",
    "num_sample = len(x)\n",
    "num_var = x.shape\n",
    "interval = int(num_sample * split_ratio)\n",
    "x_train, y_train = x[:interval], y[:interval]\n",
    "x_test, y_test = x[interval:], y[interval:]"
   ]
  },
  {
   "cell_type": "code",
   "execution_count": 61,
   "metadata": {},
   "outputs": [
    {
     "data": {
      "text/plain": [
       "array([0.67821645, 0.87745226, 0.79588553, 1.22993416, 0.43688416,\n",
       "       1.57652577, 0.35196658, 0.9854042 , 1.66252078, 1.83428261,\n",
       "       1.72207387, 1.5490561 , 0.96695489, 0.65400167, 1.18439356,\n",
       "       0.3458597 , 0.39769367, 0.99659051, 0.89824838, 1.36549419])"
      ]
     },
     "execution_count": 61,
     "metadata": {},
     "output_type": "execute_result"
    }
   ],
   "source": [
    "np.sum(np.random.random((20,2)), axis=-1)"
   ]
  },
  {
   "cell_type": "code",
   "execution_count": 90,
   "metadata": {},
   "outputs": [],
   "source": [
    "def normalize_axis(a):\n",
    "    if len(a.shape) == 1:\n",
    "        return np.expand_dims(a, axis=1)\n",
    "    return a\n",
    "\n",
    "def least_square(y, x_mat):\n",
    "    a = x_mat.T.dot(x_mat)\n",
    "    b = x_mat.T.dot(y)\n",
    "    return np.linalg.solve(a,b)\n",
    "\n",
    "def build_linear(x):\n",
    "    poly = np.c_[np.ones(len(x)), x]\n",
    "    return poly\n",
    "\n",
    "def find_w(x, y):\n",
    "    mean_y = np.mean(y)\n",
    "    mean_x = np.mean(x)\n",
    "\n",
    "    w1 = np.sum((y - mean_y) * (x - mean_x)) / np.sum((x - mean_x) ** 2)\n",
    "    w0 = mean_y - w1 * mean_x\n",
    "    return np.array([w0,w1])\n",
    "\n",
    "def build_poly(x, degree):\n",
    "    poly = np.ones((len(x), 1))\n",
    "    for deg in range(1, degree + 1):\n",
    "        poly = np.c_[poly, np.power(x, deg)]\n",
    "    return poly\n",
    "\n",
    "\n",
    "class KNN_linear_regressor(object):\n",
    "    def __init__(self, n_neighbors:int=10):\n",
    "        self.n_neighbors = n_neighbors\n",
    "  \n",
    "    def fit(self, x:np.ndarray, y:np.ndarray):\n",
    "        self.x = normalize_axis(x)\n",
    "        self.y = normalize_axis(y)\n",
    "\n",
    "    def predict(self, x):\n",
    "        x = normalize_axis(x)\n",
    "        distance = np.sum((x[:,np.newaxis,:] - self.x[np.newaxis,:,:]) ** 2, axis=-1)\n",
    "        min_indices = np.argsort(distance, axis=-1)\n",
    "        neighbors_indices = min_indices[:,:self.n_neighbors]\n",
    "\n",
    "        result = []\n",
    "        for i, indices in enumerate(neighbors_indices):\n",
    "            neighbors_x = np.squeeze(self.x[indices,...])\n",
    "            neighbors_y = np.squeeze(self.y[indices,...])\n",
    "            w = find_w(neighbors_x, neighbors_y)\n",
    "            # w = least_square(neighbors_y, build_linear(neighbors_x))\n",
    "\n",
    "            result.append(np.matmul(build_linear(x[i]), w))\n",
    "        \n",
    "        return np.array(result)"
   ]
  },
  {
   "cell_type": "code",
   "execution_count": 91,
   "metadata": {},
   "outputs": [
    {
     "name": "stdout",
     "output_type": "stream",
     "text": [
      "2 318.2692142660404\n",
      "3 9.16365227570985\n",
      "4 5.899410349870134\n",
      "5 5.0190888964551625\n",
      "6 5.464684338235777\n",
      "7 5.013701671610452\n",
      "8 4.845192155383899\n",
      "9 4.65583384445845\n",
      "10 4.590738536389424\n",
      "11 4.634783896339745\n",
      "12 4.696684647984519\n",
      "13 4.556524052974809\n",
      "14 4.55012890086574\n",
      "15 4.535624333684883\n",
      "16 4.4777821712571315\n",
      "17 4.36286078501358\n",
      "18 4.4485221521340925\n",
      "19 4.351112330310374\n",
      "20 4.31767024692876\n",
      "21 4.277274244281292\n",
      "22 4.259492513038896\n",
      "23 4.17278170943625\n",
      "24 4.130035878964251\n",
      "25 4.098155870157516\n",
      "26 4.126612978093657\n",
      "27 4.15118470565895\n",
      "28 4.10293713483762\n",
      "29 4.082318511265557\n"
     ]
    }
   ],
   "source": [
    "for n_neigh in range(2, 30):\n",
    "    regressor = KNN_linear_regressor(n_neighbors=n_neigh)\n",
    "    regressor.fit(x_train, y_train)\n",
    "    y_test_predict = regressor.predict(x_test)\n",
    "    print(n_neigh, mse_loss(y_test_predict, y_test))"
   ]
  },
  {
   "cell_type": "code",
   "execution_count": 89,
   "metadata": {},
   "outputs": [
    {
     "name": "stdout",
     "output_type": "stream",
     "text": [
      "2 318.2694006828483\n",
      "3 9.163652273572259\n",
      "4 5.899410350000664\n",
      "5 5.019088896501384\n",
      "6 5.464684338245063\n",
      "7 5.013701671610875\n",
      "8 4.845192155362832\n",
      "9 4.655833844458723\n",
      "10 4.590738536389727\n",
      "11 4.634783896340477\n",
      "12 4.696684647984837\n",
      "13 4.556524052974575\n",
      "14 4.5501289008652845\n",
      "15 4.535624333684754\n",
      "16 4.477782171256994\n",
      "17 4.362860785013418\n",
      "18 4.448522152133747\n",
      "19 4.351112330310086\n",
      "20 4.317670246928646\n",
      "21 4.27727424428123\n",
      "22 4.25949251303877\n",
      "23 4.172781709436122\n",
      "24 4.130035878964115\n",
      "25 4.098155870157355\n",
      "26 4.126612978093602\n",
      "27 4.1511847056589035\n",
      "28 4.102937134837608\n",
      "29 4.08231851126554\n"
     ]
    }
   ],
   "source": [
    "for n_neigh in range(2, 30):\n",
    "    regressor = KNN_linear_regressor(n_neighbors=n_neigh)\n",
    "    regressor.fit(x_train, y_train)\n",
    "    y_test_predict = regressor.predict(x_test)\n",
    "    print(n_neigh, mse_loss(y_test_predict, y_test))"
   ]
  },
  {
   "cell_type": "code",
   "execution_count": null,
   "metadata": {},
   "outputs": [],
   "source": [
    "def least_square(y, x_mat):\n",
    "    a = x_mat.T.dot(x_mat)\n",
    "    b = x_mat.T.dot(y)\n",
    "    # print(a)\n",
    "    # print(b)\n",
    "    return np.linalg.solve(a,b)\n",
    "def build_poly(x, degree):\n",
    "    poly = np.ones((len(x), 1))\n",
    "    for deg in range(1, degree + 1):\n",
    "        poly = np.c_[poly, np.power(x, deg)]\n",
    "    return poly\n",
    "def mse_loss(a, b):\n",
    "    return np.mean((a - b) ** 2)\n",
    "\n",
    "for degree in range(10):\n",
    "# degree = 4\n",
    "    #x_mat = np.c_[np.ones(len(x_train)), x_train.squeeze()]\n",
    "    x_mat = build_poly(x_train.squeeze(), degree)\n",
    "    w = least_square(y_train.squeeze(), x_mat)\n",
    "\n",
    "    # x_test_mat = np.c_[np.ones(len(x_test)), x_test.squeeze()]\n",
    "    predict_y = np.matmul(x_test_mat, w)\n",
    "    print(degree, mse_loss(predict_y, y_test))"
   ]
  },
  {
   "cell_type": "code",
   "execution_count": 47,
   "metadata": {},
   "outputs": [
    {
     "name": "stdout",
     "output_type": "stream",
     "text": [
      "2 5.668\n",
      "3 5.591\n",
      "4 5.077\n",
      "5 4.844\n",
      "6 4.719\n",
      "7 4.477\n",
      "8 4.552\n",
      "9 4.559\n",
      "10 4.599\n",
      "11 4.648\n",
      "12 4.669\n",
      "13 4.509\n",
      "14 4.462\n",
      "15 4.482\n",
      "16 4.368\n",
      "17 4.294\n",
      "18 4.398\n",
      "19 4.292\n",
      "20 4.232\n",
      "21 4.234\n",
      "22 4.211\n",
      "23 4.182\n",
      "24 4.123\n",
      "25 4.115\n",
      "26 4.164\n",
      "27 4.154\n",
      "28 4.082\n",
      "29 4.045\n"
     ]
    }
   ],
   "source": [
    "losses = []\n",
    "for n_neigh in range(2, 30):\n",
    "    regressor = KNeighborsRegressor(n_neighbors=n_neigh)\n",
    "    regressor.fit(x_train[:,np.newaxis], y_train[:,np.newaxis])\n",
    "    loss = mse_loss(regressor.predict(x_test[:,np.newaxis]), y_test[:,np.newaxis])\n",
    "    print(n_neigh, \"{:.3f}\".format(loss))\n",
    "    losses.append(loss)"
   ]
  },
  {
   "cell_type": "code",
   "execution_count": 48,
   "metadata": {},
   "outputs": [
    {
     "name": "stdout",
     "output_type": "stream",
     "text": [
      "27\n"
     ]
    },
    {
     "data": {
      "image/png": "[encoded data removed]",
      "text/plain": [
       "<Figure size 640x480 with 1 Axes>"
      ]
     },
     "metadata": {},
     "output_type": "display_data"
    }
   ],
   "source": [
    "import matplotlib.pyplot as plt\n",
    "\n",
    "\n",
    "plt.xlabel(\"n_neigh\")\n",
    "plt.ylabel(\"mse loss\")\n",
    "plt.plot(range(len(losses)), losses)\n",
    "print(np.argmin(losses))"
   ]
  },
  {
   "cell_type": "code",
   "execution_count": null,
   "metadata": {},
   "outputs": [],
   "source": [
    "x.shape"
   ]
  },
  {
   "cell_type": "code",
   "execution_count": null,
   "metadata": {},
   "outputs": [],
   "source": [
    "data['X']"
   ]
  },
  {
   "cell_type": "code",
   "execution_count": null,
   "metadata": {},
   "outputs": [],
   "source": [
    "data['y']"
   ]
  },
  {
   "cell_type": "code",
   "execution_count": null,
   "metadata": {},
   "outputs": [],
   "source": []
  }
 ],
 "metadata": {
  "kernelspec": {
   "display_name": "Python 3.7.5 ('openfl-tf29')",
   "language": "python",
   "name": "python3"
  },
  "language_info": {
   "codemirror_mode": {
    "name": "ipython",
    "version": 3
   },
   "file_extension": ".py",
   "mimetype": "text/x-python",
   "name": "python",
   "nbconvert_exporter": "python",
   "pygments_lexer": "ipython3",
   "version": "3.7.5"
  },
  "orig_nbformat": 4,
  "vscode": {
   "interpreter": {
    "hash": "23f1e2208477ff619155bcdade05f1da58c9ea4c35d505775ee4a77f606924c3"
   }
  }
 },
 "nbformat": 4,
 "nbformat_minor": 2
}
