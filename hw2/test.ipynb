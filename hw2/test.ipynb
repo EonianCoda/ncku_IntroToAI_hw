{
 "cells": [
  {
   "cell_type": "code",
   "execution_count": 1,
   "metadata": {},
   "outputs": [],
   "source": [
    "from GA import GA, Problem\n",
    "from BF import BF\n",
    "import random"
   ]
  },
  {
   "cell_type": "code",
   "execution_count": 6,
   "metadata": {},
   "outputs": [],
   "source": [
    "import json\n",
    "\n",
    "def gen_problem(num_task : int):\n",
    "    input = []\n",
    "    for i in range(num_task):\n",
    "        input.append([random.random() for _ in range(num_task)])\n",
    "    return Problem(input)\n",
    "\n",
    "def gen_problems(num_problem : int, num_task : int):\n",
    "    random.seed(123456)\n",
    "    return [gen_problem(num_task) for _ in range(num_problem)]\n",
    "\n",
    "input1 = [[0.43045255, 0.78681387, 0.07514408, 0.72583933, 0.52916145, 0.87483212, 0.34701621],\n",
    "        [0.68704291, 0.45392742, 0.46862110, 0.67669006, 0.23817468, 0.87520581, 0.67311418],\n",
    "        [0.38505150, 0.05974168, 0.11388629, 0.28978058, 0.66089373, 0.92592403, 0.70718757],\n",
    "        [0.24975701, 0.16937649, 0.42003672, 0.88231235, 0.74635725, 0.59854858, 0.88631100], \n",
    "        [0.64895582, 0.58909596, 0.99772334, 0.85522575, 0.33916707, 0.72873479, 0.26826203],\n",
    "        [0.47939038, 0.88484586, 0.05122520, 0.83527995, 0.37219939, 0.20375257, 0.50482283],\n",
    "        [0.58926554, 0.45176739, 0.25217475, 0.83548120, 0.41687026, 0.00293049, 0.23939052]]\n",
    "\n",
    "bf = BF()\n",
    "num_task = 8\n",
    "num_problem = 100\n",
    "problems = gen_problems(num_problem, num_task)\n",
    "\n",
    "all_ans = []\n",
    "for problem in problems:\n",
    "    bf.solve(problem)\n",
    "    ans = bf.best_ans\n",
    "    all_ans.append(problem.cost(ans))"
   ]
  },
  {
   "cell_type": "code",
   "execution_count": 7,
   "metadata": {},
   "outputs": [
    {
     "name": "stdout",
     "output_type": "stream",
     "text": [
      "1.45020202\n"
     ]
    }
   ],
   "source": [
    "ga = GA(pop_size=300,\n",
    "        iter_times=500,\n",
    "        cross_ratio=0.2,\n",
    "        mut_ratio=0.1,\n",
    "        least_fitness_factor=0.3,\n",
    "        selection_method=,\n",
    "        mut_method=mut,\n",
    "        )\n",
    "problem = Problem(input1)\n",
    "ga.solve(problem)\n",
    "print(ga.best_obj)\n",
    "# ga_ans.append(ga.best_obj)\n",
    "# end = time.time()\n",
    "# print(\"Spend time={:.2f}\".format(end - start))\n",
    "# print(acc(ga_ans, all_ans))"
   ]
  },
  {
   "cell_type": "markdown",
   "metadata": {},
   "source": [
    "# Mutation"
   ]
  },
  {
   "cell_type": "code",
   "execution_count": 5,
   "metadata": {},
   "outputs": [
    {
     "name": "stdout",
     "output_type": "stream",
     "text": [
      "Spend time=93.35\n",
      "0.95\n"
     ]
    }
   ],
   "source": [
    "import numpy as np\n",
    "from GA import Wheel_selection, Inversion_mutation, Deterministic_selection, Swap_mutation, Scramble_mutation\n",
    "import time\n",
    "def acc(ga_ans, all_ans):\n",
    "        return (np.array(ga_ans) == np.array(all_ans)).sum() / num_problem\n",
    "\n",
    "\n",
    "\n",
    "#for mut in [Inversion_mutation, Swap_mutation, Scramble_mutation]:\n",
    "for mut in [Swap_mutation]:\n",
    "        random.seed(123)\n",
    "        start = time.time()\n",
    "        ga = GA(pop_size=300,\n",
    "                iter_times=500,\n",
    "                cross_ratio=0.2,\n",
    "                mut_ratio=0.1,\n",
    "                least_fitness_factor=0.3,\n",
    "                selection_method=Wheel_selection,\n",
    "                mut_method=mut,\n",
    "                )\n",
    "        ga_ans = []\n",
    "        for problem in problems:\n",
    "                ga.solve(problem)\n",
    "                ga_ans.append(ga.best_obj)\n",
    "        end = time.time()\n",
    "        print(\"Spend time={:.2f}\".format(end - start))\n",
    "        print(acc(ga_ans, all_ans))\n",
    "\n",
    "        #print(\"{}:{}\".format(pop_size,(np.array(ga_ans) == np.array(all_ans)).sum() / num_problem))"
   ]
  },
  {
   "cell_type": "markdown",
   "metadata": {},
   "source": [
    "# Selection "
   ]
  },
  {
   "cell_type": "code",
   "execution_count": 5,
   "metadata": {},
   "outputs": [
    {
     "name": "stdout",
     "output_type": "stream",
     "text": [
      "Spend time=16.83\n",
      "0.86\n",
      "Spend time=16.25\n",
      "0.94\n"
     ]
    }
   ],
   "source": [
    "import numpy as np\n",
    "from GA import Wheel_selection, Inversion_mutation, Deterministic_selection, Swap_mutation, Scramble_mutation\n",
    "import time\n",
    "def acc(ga_ans, all_ans):\n",
    "        return (np.array(ga_ans) == np.array(all_ans)).sum() / num_problem\n",
    "\n",
    "\n",
    "\n",
    "for selection in [Wheel_selection, Deterministic_selection]:\n",
    "        random.seed(123)\n",
    "        start = time.time()\n",
    "        ga = GA(pop_size=100,\n",
    "                iter_times=300,\n",
    "                cross_ratio=0.2,\n",
    "                mut_ratio=0.1,\n",
    "                least_fitness_factor=0.3,\n",
    "                selection_method=selection,\n",
    "                mut_method=Swap_mutation,\n",
    "                )\n",
    "        ga_ans = []\n",
    "        for problem in problems:\n",
    "                ga.solve(problem)\n",
    "                ga_ans.append(ga.best_obj)\n",
    "        end = time.time()\n",
    "        print(\"Spend time={:.2f}\".format(end - start))\n",
    "        print(acc(ga_ans, all_ans))\n",
    "\n",
    "        #print(\"{}:{}\".format(pop_size,(np.array(ga_ans) == np.array(all_ans)).sum() / num_problem))"
   ]
  },
  {
   "cell_type": "markdown",
   "metadata": {},
   "source": [
    "# PoP size"
   ]
  },
  {
   "cell_type": "code",
   "execution_count": 7,
   "metadata": {},
   "outputs": [
    {
     "name": "stdout",
     "output_type": "stream",
     "text": [
      "50\n",
      "Spend time=8.15\n",
      "0.76\n",
      "100\n",
      "Spend time=16.05\n",
      "0.94\n",
      "150\n",
      "Spend time=24.80\n",
      "0.99\n",
      "200\n",
      "Spend time=33.65\n",
      "0.98\n"
     ]
    }
   ],
   "source": [
    "import numpy as np\n",
    "from GA import Wheel_selection, Inversion_mutation, Deterministic_selection, Swap_mutation, Scramble_mutation\n",
    "import time\n",
    "def acc(ga_ans, all_ans):\n",
    "        return (np.array(ga_ans) == np.array(all_ans)).sum() / num_problem\n",
    "\n",
    "for pop_size in range(50,200 + 1,50):\n",
    "        random.seed(123)\n",
    "        start = time.time()\n",
    "        ga = GA(pop_size=pop_size,\n",
    "                iter_times=300,\n",
    "                cross_ratio=0.2,\n",
    "                mut_ratio=0.1,\n",
    "                least_fitness_factor=0.3,\n",
    "                selection_method=Deterministic_selection,\n",
    "                mut_method=Swap_mutation,\n",
    "                )\n",
    "        ga_ans = []\n",
    "        for problem in problems:\n",
    "                ga.solve(problem)\n",
    "                ga_ans.append(ga.best_obj)\n",
    "        end = time.time()\n",
    "        print(pop_size)\n",
    "        print(\"Spend time={:.2f}\".format(end - start))\n",
    "        print(acc(ga_ans, all_ans))\n",
    "\n",
    "        #print(\"{}:{}\".format(pop_size,(np.array(ga_ans) == np.array(all_ans)).sum() / num_problem))"
   ]
  },
  {
   "cell_type": "code",
   "execution_count": null,
   "metadata": {},
   "outputs": [],
   "source": []
  },
  {
   "cell_type": "code",
   "execution_count": 8,
   "metadata": {},
   "outputs": [
    {
     "name": "stdout",
     "output_type": "stream",
     "text": [
      "100\n",
      "Spend time=8.05\n",
      "0.96\n",
      "200\n",
      "Spend time=15.95\n",
      "0.98\n",
      "300\n",
      "Spend time=24.40\n",
      "0.99\n",
      "400\n",
      "Spend time=32.38\n",
      "0.96\n",
      "500\n",
      "Spend time=44.33\n",
      "0.98\n"
     ]
    }
   ],
   "source": [
    "import numpy as np\n",
    "from GA import Wheel_selection, Inversion_mutation, Deterministic_selection, Swap_mutation, Scramble_mutation\n",
    "import time\n",
    "def acc(ga_ans, all_ans):\n",
    "        return (np.array(ga_ans) == np.array(all_ans)).sum() / num_problem\n",
    "\n",
    "for iteration in range(100,500 + 1,100):\n",
    "        random.seed(123)\n",
    "        start = time.time()\n",
    "        ga = GA(pop_size=150,\n",
    "                iter_times=iteration,\n",
    "                cross_ratio=0.2,\n",
    "                mut_ratio=0.1,\n",
    "                least_fitness_factor=0.3,\n",
    "                selection_method=Deterministic_selection,\n",
    "                mut_method=Swap_mutation,\n",
    "                )\n",
    "        ga_ans = []\n",
    "        for problem in problems:\n",
    "                ga.solve(problem)\n",
    "                ga_ans.append(ga.best_obj)\n",
    "        end = time.time()\n",
    "        print(iteration)\n",
    "        print(\"Spend time={:.2f}\".format(end - start))\n",
    "        print(acc(ga_ans, all_ans))\n",
    "\n",
    "        #print(\"{}:{}\".format(pop_size,(np.array(ga_ans) == np.array(all_ans)).sum() / num_problem))"
   ]
  },
  {
   "cell_type": "code",
   "execution_count": 8,
   "metadata": {},
   "outputs": [
    {
     "name": "stdout",
     "output_type": "stream",
     "text": [
      "1.0\n"
     ]
    }
   ],
   "source": [
    "import numpy as np\n",
    "from GA import Wheel_selection, Inversion_mutation, Deterministic_selection, Swap_mutation, Scramble_mutation\n",
    "import time\n",
    "random.seed(123)\n",
    "ga = GA(pop_size=300,\n",
    "            iter_times=500,\n",
    "            cross_ratio=0.2,\n",
    "            mut_ratio=0.1,\n",
    "            least_fitness_factor=0.3,\n",
    "            selection_method=Deterministic_selection,\n",
    "            mut_method=Swap_mutation,\n",
    "            )\n",
    "ga_ans = []\n",
    "for problem in problems:\n",
    "    ga.solve(problem)\n",
    "    ga_ans.append(ga.best_obj)\n",
    "end = time.time()\n",
    "print(acc(ga_ans, all_ans))"
   ]
  },
  {
   "cell_type": "code",
   "execution_count": 5,
   "metadata": {},
   "outputs": [
    {
     "name": "stdout",
     "output_type": "stream",
     "text": [
      "1.0\n"
     ]
    }
   ],
   "source": [
    "def acc(ga_ans, all_ans):\n",
    "        return (np.array(ga_ans) == np.array(all_ans)).sum() / num_problem\n",
    "print(acc(ga_ans, all_ans))"
   ]
  },
  {
   "cell_type": "code",
   "execution_count": null,
   "metadata": {},
   "outputs": [],
   "source": []
  },
  {
   "cell_type": "code",
   "execution_count": 3,
   "metadata": {},
   "outputs": [],
   "source": [
    "problem = Problem(input1)\n",
    "ga.solve(problem)\n",
    "bf.solve(problem)"
   ]
  },
  {
   "cell_type": "code",
   "execution_count": 4,
   "metadata": {},
   "outputs": [
    {
     "name": "stdout",
     "output_type": "stream",
     "text": [
      "GA:\n",
      "[0, 4, 3, 1, 6, 2, 5]\n",
      "1.45020202\n",
      "BF:\n",
      "[0, 4, 3, 1, 6, 2, 5]\n",
      "1.45020202\n"
     ]
    }
   ],
   "source": [
    "ga_ans = ga.best_obj_ans\n",
    "bf_ans = bf.best_ans\n",
    "print(\"GA:\")\n",
    "print(ga_ans)\n",
    "print(problem.cost(ga_ans))\n",
    "print(\"BF:\")\n",
    "print(bf_ans)\n",
    "print(problem.cost(bf_ans))"
   ]
  },
  {
   "cell_type": "code",
   "execution_count": null,
   "metadata": {},
   "outputs": [],
   "source": []
  }
 ],
 "metadata": {
  "kernelspec": {
   "display_name": "Python 3.9.12 ('base')",
   "language": "python",
   "name": "python3"
  },
  "language_info": {
   "codemirror_mode": {
    "name": "ipython",
    "version": 3
   },
   "file_extension": ".py",
   "mimetype": "text/x-python",
   "name": "python",
   "nbconvert_exporter": "python",
   "pygments_lexer": "ipython3",
   "version": "3.9.12"
  },
  "orig_nbformat": 4,
  "vscode": {
   "interpreter": {
    "hash": "1fe8c35be263d59456f02e056f38c6d17b8ce95edb4a384e5646e7af7ca3397b"
   }
  }
 },
 "nbformat": 4,
 "nbformat_minor": 2
}
