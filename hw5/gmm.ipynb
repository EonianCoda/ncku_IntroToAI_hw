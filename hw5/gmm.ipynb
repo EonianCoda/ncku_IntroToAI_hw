{
 "cells": [
  {
   "cell_type": "code",
   "execution_count": 1,
   "metadata": {},
   "outputs": [],
   "source": [
    "import json\n",
    "import numpy as np\n",
    "import matplotlib.pyplot as plt\n",
    "from sklearn.mixture import GaussianMixture as GMM\n",
    "import matplotlib.colors as mcolors\n",
    "from matplotlib.patches import Ellipse\n",
    "\n",
    "\n",
    "def draw_ellipse(position, covariance, ax=None, **kwargs):\n",
    "    ax = ax or plt.gca()\n",
    "    \n",
    "    # Convert covariance to principal axes\n",
    "    if covariance.shape == (2, 2):\n",
    "        U, s, Vt = np.linalg.svd(covariance)\n",
    "        angle = np.degrees(np.arctan2(U[1, 0], U[0, 0]))\n",
    "        width, height = 2 * np.sqrt(s)\n",
    "    else:\n",
    "        angle = 0\n",
    "        width, height = 2 * np.sqrt(covariance)\n",
    "    # Draw the Ellipse\n",
    "    for nsig in range(1, 4):\n",
    "        ax.add_patch(Ellipse(position, nsig * width, nsig * height,\n",
    "                             angle, **kwargs))\n",
    "\n",
    "# Load Data\n",
    "with open('input.json', 'r') as inputFile:\n",
    "    datas = json.load(inputFile)\n",
    "    datas = {key:np.array(data) for key, data in datas.items()}\n",
    "x1, y1 = datas['x1'], datas['y1']\n",
    "x2, y2 = datas['x2'], datas['y2']\n",
    "x3, y3 = datas['x3'], datas['y3']\n",
    "data = [[x1, y1], [x2, y2], [x3, y3]]"
   ]
  },
  {
   "cell_type": "code",
   "execution_count": 2,
   "metadata": {},
   "outputs": [
    {
     "data": {
      "text/plain": [
       "array([[ 4.01189429,  1.73712037],\n",
       "       [-2.51722518, 15.59154145],\n",
       "       [-3.14057398,  5.76638109],\n",
       "       [ 1.92668063,  8.67253275]])"
      ]
     },
     "execution_count": 2,
     "metadata": {},
     "output_type": "execute_result"
    }
   ],
   "source": [
    "x, y = data[0]\n",
    "classes = np.unique(y)\n",
    "num_classes = len(classes)\n",
    "predictor = GMM(n_components=num_classes)\n",
    "predictor.fit(x)\n",
    "\n",
    "center = []\n",
    "for c in classes:\n",
    "    mask = (y == c)\n",
    "    center.append(np.mean(x[mask], axis=0))\n",
    "center = np.array(center)\n",
    "center_predict = predictor.means_\n",
    "\n",
    "distance = np.sqrt(np.sum((center[np.newaxis,...] - center_predict[:, np.newaxis, ...]) ** 2, axis= -1))\n",
    "classes_mapping = np.argmin(distance, axis=-1)\n",
    "center[classes_mapping]"
   ]
  },
  {
   "cell_type": "code",
   "execution_count": 70,
   "metadata": {},
   "outputs": [
    {
     "name": "stdout",
     "output_type": "stream",
     "text": [
      "{'covariance_type': 'full', 'init_params': 'kmeans', 'tol': 0.1, 'max_iter': 50}\n",
      "0.873\n",
      "{'covariance_type': 'full', 'init_params': 'kmeans', 'tol': 0.1, 'max_iter': 100}\n",
      "0.996\n",
      "{'covariance_type': 'full', 'init_params': 'kmeans', 'tol': 0.01, 'max_iter': 50}\n",
      "0.996\n",
      "{'covariance_type': 'full', 'init_params': 'kmeans', 'tol': 0.01, 'max_iter': 100}\n",
      "0.996\n",
      "{'covariance_type': 'full', 'init_params': 'kmeans', 'tol': 0.001, 'max_iter': 50}\n",
      "0.996\n",
      "{'covariance_type': 'full', 'init_params': 'kmeans', 'tol': 0.001, 'max_iter': 100}\n",
      "0.996\n",
      "{'covariance_type': 'full', 'init_params': 'k-means++', 'tol': 0.1, 'max_iter': 50}\n"
     ]
    },
    {
     "ename": "ValueError",
     "evalue": "Unimplemented initialization method 'k-means++'",
     "output_type": "error",
     "traceback": [
      "\u001b[1;31m---------------------------------------------------------------------------\u001b[0m",
      "\u001b[1;31mValueError\u001b[0m                                Traceback (most recent call last)",
      "\u001b[1;32m~\\AppData\\Local\\Temp\\ipykernel_22680\\1534850544.py\u001b[0m in \u001b[0;36m<module>\u001b[1;34m\u001b[0m\n\u001b[0;32m    118\u001b[0m         \u001b[0msetting\u001b[0m\u001b[1;33m[\u001b[0m\u001b[0marg\u001b[0m\u001b[1;33m]\u001b[0m \u001b[1;33m=\u001b[0m \u001b[0mexp_setting\u001b[0m\u001b[1;33m[\u001b[0m\u001b[0marg\u001b[0m\u001b[1;33m]\u001b[0m\u001b[1;33m[\u001b[0m\u001b[0mi\u001b[0m\u001b[1;33m]\u001b[0m\u001b[1;33m\u001b[0m\u001b[1;33m\u001b[0m\u001b[0m\n\u001b[0;32m    119\u001b[0m     \u001b[0mprint\u001b[0m\u001b[1;33m(\u001b[0m\u001b[0msetting\u001b[0m\u001b[1;33m)\u001b[0m\u001b[1;33m\u001b[0m\u001b[1;33m\u001b[0m\u001b[0m\n\u001b[1;32m--> 120\u001b[1;33m     \u001b[0mgmm\u001b[0m\u001b[1;33m.\u001b[0m\u001b[0mset_gmm\u001b[0m\u001b[1;33m(\u001b[0m\u001b[1;33m**\u001b[0m\u001b[0msetting\u001b[0m\u001b[1;33m)\u001b[0m\u001b[1;33m\u001b[0m\u001b[1;33m\u001b[0m\u001b[0m\n\u001b[0m\u001b[0;32m    121\u001b[0m     \u001b[0macc\u001b[0m \u001b[1;33m=\u001b[0m \u001b[0mgmm\u001b[0m\u001b[1;33m.\u001b[0m\u001b[0mcompute_acc\u001b[0m\u001b[1;33m(\u001b[0m\u001b[1;33m)\u001b[0m\u001b[1;33m\u001b[0m\u001b[1;33m\u001b[0m\u001b[0m\n\u001b[0;32m    122\u001b[0m     \u001b[0mprint\u001b[0m\u001b[1;33m(\u001b[0m\u001b[0macc\u001b[0m\u001b[1;33m)\u001b[0m\u001b[1;33m\u001b[0m\u001b[1;33m\u001b[0m\u001b[0m\n",
      "\u001b[1;32m~\\AppData\\Local\\Temp\\ipykernel_22680\\1534850544.py\u001b[0m in \u001b[0;36mset_gmm\u001b[1;34m(self, **args)\u001b[0m\n\u001b[0;32m     92\u001b[0m         \u001b[0mself\u001b[0m\u001b[1;33m.\u001b[0m\u001b[0mgmm_setting\u001b[0m \u001b[1;33m=\u001b[0m \u001b[0margs\u001b[0m\u001b[1;33m\u001b[0m\u001b[1;33m\u001b[0m\u001b[0m\n\u001b[0;32m     93\u001b[0m         \u001b[0mself\u001b[0m\u001b[1;33m.\u001b[0m\u001b[0mpredictor\u001b[0m \u001b[1;33m=\u001b[0m \u001b[0mGMM\u001b[0m\u001b[1;33m(\u001b[0m\u001b[0mn_components\u001b[0m\u001b[1;33m=\u001b[0m\u001b[0mself\u001b[0m\u001b[1;33m.\u001b[0m\u001b[0mnum_classes\u001b[0m\u001b[1;33m,\u001b[0m \u001b[1;33m**\u001b[0m\u001b[0margs\u001b[0m\u001b[1;33m)\u001b[0m\u001b[1;33m\u001b[0m\u001b[1;33m\u001b[0m\u001b[0m\n\u001b[1;32m---> 94\u001b[1;33m         \u001b[0mself\u001b[0m\u001b[1;33m.\u001b[0m\u001b[0mpredictor\u001b[0m\u001b[1;33m.\u001b[0m\u001b[0mfit\u001b[0m\u001b[1;33m(\u001b[0m\u001b[0mself\u001b[0m\u001b[1;33m.\u001b[0m\u001b[0mx\u001b[0m\u001b[1;33m)\u001b[0m\u001b[1;33m\u001b[0m\u001b[1;33m\u001b[0m\u001b[0m\n\u001b[0m\u001b[0;32m     95\u001b[0m \u001b[1;33m\u001b[0m\u001b[0m\n\u001b[0;32m     96\u001b[0m \u001b[0mx\u001b[0m\u001b[1;33m,\u001b[0m \u001b[0my\u001b[0m \u001b[1;33m=\u001b[0m \u001b[0mdata\u001b[0m\u001b[1;33m[\u001b[0m\u001b[1;36m1\u001b[0m\u001b[1;33m]\u001b[0m\u001b[1;33m\u001b[0m\u001b[1;33m\u001b[0m\u001b[0m\n",
      "\u001b[1;32mc:\\Users\\user\\anaconda3\\envs\\openfl-tf29\\lib\\site-packages\\sklearn\\mixture\\_base.py\u001b[0m in \u001b[0;36mfit\u001b[1;34m(self, X, y)\u001b[0m\n\u001b[0;32m    196\u001b[0m             \u001b[0mThe\u001b[0m \u001b[0mfitted\u001b[0m \u001b[0mmixture\u001b[0m\u001b[1;33m.\u001b[0m\u001b[1;33m\u001b[0m\u001b[1;33m\u001b[0m\u001b[0m\n\u001b[0;32m    197\u001b[0m         \"\"\"\n\u001b[1;32m--> 198\u001b[1;33m         \u001b[0mself\u001b[0m\u001b[1;33m.\u001b[0m\u001b[0mfit_predict\u001b[0m\u001b[1;33m(\u001b[0m\u001b[0mX\u001b[0m\u001b[1;33m,\u001b[0m \u001b[0my\u001b[0m\u001b[1;33m)\u001b[0m\u001b[1;33m\u001b[0m\u001b[1;33m\u001b[0m\u001b[0m\n\u001b[0m\u001b[0;32m    199\u001b[0m         \u001b[1;32mreturn\u001b[0m \u001b[0mself\u001b[0m\u001b[1;33m\u001b[0m\u001b[1;33m\u001b[0m\u001b[0m\n\u001b[0;32m    200\u001b[0m \u001b[1;33m\u001b[0m\u001b[0m\n",
      "\u001b[1;32mc:\\Users\\user\\anaconda3\\envs\\openfl-tf29\\lib\\site-packages\\sklearn\\mixture\\_base.py\u001b[0m in \u001b[0;36mfit_predict\u001b[1;34m(self, X, y)\u001b[0m\n\u001b[0;32m    249\u001b[0m \u001b[1;33m\u001b[0m\u001b[0m\n\u001b[0;32m    250\u001b[0m             \u001b[1;32mif\u001b[0m \u001b[0mdo_init\u001b[0m\u001b[1;33m:\u001b[0m\u001b[1;33m\u001b[0m\u001b[1;33m\u001b[0m\u001b[0m\n\u001b[1;32m--> 251\u001b[1;33m                 \u001b[0mself\u001b[0m\u001b[1;33m.\u001b[0m\u001b[0m_initialize_parameters\u001b[0m\u001b[1;33m(\u001b[0m\u001b[0mX\u001b[0m\u001b[1;33m,\u001b[0m \u001b[0mrandom_state\u001b[0m\u001b[1;33m)\u001b[0m\u001b[1;33m\u001b[0m\u001b[1;33m\u001b[0m\u001b[0m\n\u001b[0m\u001b[0;32m    252\u001b[0m \u001b[1;33m\u001b[0m\u001b[0m\n\u001b[0;32m    253\u001b[0m             \u001b[0mlower_bound\u001b[0m \u001b[1;33m=\u001b[0m \u001b[1;33m-\u001b[0m\u001b[0mnp\u001b[0m\u001b[1;33m.\u001b[0m\u001b[0minf\u001b[0m \u001b[1;32mif\u001b[0m \u001b[0mdo_init\u001b[0m \u001b[1;32melse\u001b[0m \u001b[0mself\u001b[0m\u001b[1;33m.\u001b[0m\u001b[0mlower_bound_\u001b[0m\u001b[1;33m\u001b[0m\u001b[1;33m\u001b[0m\u001b[0m\n",
      "\u001b[1;32mc:\\Users\\user\\anaconda3\\envs\\openfl-tf29\\lib\\site-packages\\sklearn\\mixture\\_base.py\u001b[0m in \u001b[0;36m_initialize_parameters\u001b[1;34m(self, X, random_state)\u001b[0m\n\u001b[0;32m    153\u001b[0m         \u001b[1;32melse\u001b[0m\u001b[1;33m:\u001b[0m\u001b[1;33m\u001b[0m\u001b[1;33m\u001b[0m\u001b[0m\n\u001b[0;32m    154\u001b[0m             raise ValueError(\n\u001b[1;32m--> 155\u001b[1;33m                 \u001b[1;34m\"Unimplemented initialization method '%s'\"\u001b[0m \u001b[1;33m%\u001b[0m \u001b[0mself\u001b[0m\u001b[1;33m.\u001b[0m\u001b[0minit_params\u001b[0m\u001b[1;33m\u001b[0m\u001b[1;33m\u001b[0m\u001b[0m\n\u001b[0m\u001b[0;32m    156\u001b[0m             )\n\u001b[0;32m    157\u001b[0m \u001b[1;33m\u001b[0m\u001b[0m\n",
      "\u001b[1;31mValueError\u001b[0m: Unimplemented initialization method 'k-means++'"
     ]
    }
   ],
   "source": [
    "# import matplotlib as mpl\n",
    "from sklearn.mixture import GaussianMixture as GMM\n",
    "\n",
    "COLORS = list(mcolors.TABLEAU_COLORS.values())\n",
    "\n",
    "class GMM_predictor(object):\n",
    "    def __init__(self, x: np.ndarray, y: np.ndarray):\n",
    "        self.x = x\n",
    "        self.y = y\n",
    "        self.classes = np.unique(self.y)\n",
    "        self.num_classes = len(self.classes)\n",
    "        # Set color for each class\n",
    "        self.colors = dict()\n",
    "        for c_idx, c in enumerate(self.classes):\n",
    "            self.colors[c] = COLORS[c_idx]\n",
    "        self.predictor = None # sklearn GMM object\n",
    "    \n",
    "    def _draw_distribution(self, ax, x:np.ndarray, y:np.ndarray, class_mapping:dict):\n",
    "\n",
    "        for real_c in sorted(class_mapping.keys()):\n",
    "            target = x[y == class_mapping[real_c], ...]\n",
    "            x1 = target[:, 0]\n",
    "            x2 = target[:, 1]\n",
    "            ax.scatter(x1, x2, c=self.colors[real_c], s=15, label=\"Class {}\".format(real_c))\n",
    "            # Draw center\n",
    "            center = np.mean(target, axis=0)\n",
    "            ax.scatter(center[0], center[1], marker=\"D\", c=\"orange\", lw=1, edgecolors=\"black\", s=16)\n",
    "        ax.legend()\n",
    "\n",
    "    def get_class_mapping(self):\n",
    "        center = []\n",
    "        for c in self.classes:\n",
    "            mask = (self.y == c)\n",
    "            center.append(np.mean(x[mask], axis=0))\n",
    "        center = np.array(center)\n",
    "        center_predict = self.predictor.means_\n",
    "        distance = np.sqrt(np.sum((center[np.newaxis,...] - center_predict[:, np.newaxis, ...]) ** 2, axis= -1))\n",
    "        mapping = np.argmin(distance, axis=-1)\n",
    "        class_mapping = {c:i for i, c in enumerate(mapping)}\n",
    "\n",
    "        return class_mapping\n",
    "    def compute_acc(self):\n",
    "        class_mapping = self.get_class_mapping()\n",
    "        predict_y = self.predictor.predict(self.x)\n",
    "        mapping_pred_y = np.zeros((self.y.shape))\n",
    "        for real_c, c in class_mapping.items():\n",
    "            mask = (predict_y == c)\n",
    "            mapping_pred_y[mask] = real_c\n",
    "        acc = (mapping_pred_y == self.y).sum() / len(self.y)\n",
    "        return acc\n",
    "    def draw_figure(self):\n",
    "        fig = plt.figure(figsize=(12,5), tight_layout=True)\n",
    "        fig.suptitle('bold figure suptitle', fontsize=14, fontweight='bold')\n",
    "        # Draw origin distribution\n",
    "        ax1 = fig.add_subplot(1, 3, 1)\n",
    "        ax1.set_xlabel('$x_1$')\n",
    "        ax1.set_ylabel('$x_2$')\n",
    "        ax1.set_title(\"Origin distribution\")\n",
    "        class_mapping = {c:c for c in self.classes}\n",
    "        self._draw_distribution(ax1, self.x, self.y, class_mapping)\n",
    "        \n",
    "        # Draw distribution for prediction\n",
    "        ax2 = fig.add_subplot(1, 3, 2)\n",
    "        ax2.set_xlabel('$x_1$')\n",
    "        ax2.set_ylabel('$x_2$')\n",
    "        ax2.set_title(\"GMM prediction distribution\")\n",
    "        predict_y = self.predictor.predict(self.x)\n",
    "        class_mapping = self.get_class_mapping()\n",
    "        self._draw_distribution(ax2, self.x, predict_y, class_mapping)\n",
    "        \n",
    "        # Draw Correct and Wrong\n",
    "        ax3 = fig.add_subplot(1, 3, 3)\n",
    "        ax3.set_title(\"Correct and Wrong Points\")\n",
    "        ax3.set_xlabel('$x_1$')\n",
    "        ax3.set_ylabel('$x_2$')\n",
    "        mapping_pred_y = np.zeros((self.y.shape))\n",
    "        for real_c, c in class_mapping.items():\n",
    "            mask = (predict_y == c)\n",
    "            mapping_pred_y[mask] = real_c\n",
    "        acc = (mapping_pred_y == self.y).sum() / len(self.y)\n",
    "        correct_mask = (mapping_pred_y == self.y)\n",
    "        target = x[correct_mask, ...]\n",
    "        ax3.scatter(target[:, 0], target[:, 1], c='g', marker='x',label=\"Correct Points\")\n",
    "        target = x[~correct_mask, ...]\n",
    "        ax3.scatter(target[:, 0], target[:, 1], c='r', marker='x',label=\"Wrong Points\")\n",
    "        ax3.legend()\n",
    "        x1_min = min(x[:,0])\n",
    "        x2_min = min(x[:,1])\n",
    "        ax3.text(x1_min, x2_min, 'Accuracy = {:.3f}'.format(acc))\n",
    "       \n",
    "    def set_gmm(self, **args):\n",
    "        self.gmm_setting = args\n",
    "        self.predictor = GMM(n_components=self.num_classes, **args)\n",
    "        self.predictor.fit(self.x)\n",
    "\n",
    "x, y = data[1]\n",
    "\n",
    "gmm = GMM_predictor(x, y)\n",
    "exp_setting = {'covariance_type': ['full', 'tied', 'diag', 'spherical'],\n",
    "                'init_params':['kmeans', 'k-means++', 'random', 'random_from_data'],\n",
    "                'tol':[1e-1, 1e-2, 1e-3],\n",
    "                'max_iter':[50, 100]}\n",
    "\n",
    "exp_order = ['covariance_type', 'init_params', 'tol', 'max_iter']\n",
    "def gen_exp(cur_i:int, indices:list):\n",
    "    cur_setting = exp_order[cur_i]\n",
    "    for i in range(len(exp_setting[cur_setting])):\n",
    "        if cur_i == 0:\n",
    "            indices = []\n",
    "        if cur_i == len(exp_setting) - 1: \n",
    "            yield indices + [i]\n",
    "        else:\n",
    "            yield from gen_exp(cur_i + 1, indices + [i])\n",
    "\n",
    "for exp in gen_exp(0, None):\n",
    "    setting = dict()\n",
    "    for arg, i in zip(exp_order, exp):\n",
    "        setting[arg] = exp_setting[arg][i]\n",
    "    print(setting)\n",
    "    gmm.set_gmm(**setting)\n",
    "    acc = gmm.compute_acc()\n",
    "    print(acc)\n",
    "# result = dict()\n",
    "# while True:\n",
    "#     # for i in exp_index\n",
    "\n",
    "#     cur_i = 0\n",
    "#     exp_index[cur_i] += 1\n",
    "#     if exp_index == final_exp:\n",
    "#         break\n",
    "#     while exp_index[cur_i] == final_exp[cur_i] + 1:\n",
    "#         exp_index[cur_i] = 0\n",
    "#         cur_i = (cur_i + 1) % len(exp_setting)\n",
    "#         exp_index[cur_i] += 1\n",
    "#     gmm.set_gmm()\n",
    "#     acc = gmm.compute_acc()\n",
    "#     print(acc)\n",
    "    \n"
   ]
  },
  {
   "cell_type": "code",
   "execution_count": 71,
   "metadata": {},
   "outputs": [
    {
     "data": {
      "text/plain": [
       "'1.0.2'"
      ]
     },
     "execution_count": 71,
     "metadata": {},
     "output_type": "execute_result"
    }
   ],
   "source": [
    "import sklearn\n",
    "sklearn.__version__"
   ]
  },
  {
   "cell_type": "code",
   "execution_count": 64,
   "metadata": {},
   "outputs": [
    {
     "data": {
      "text/plain": [
       "True"
      ]
     },
     "execution_count": 64,
     "metadata": {},
     "output_type": "execute_result"
    }
   ],
   "source": [
    "[4, 4, 4, 3] == [4, 4, 4, 3]"
   ]
  },
  {
   "cell_type": "code",
   "execution_count": 20,
   "metadata": {},
   "outputs": [
    {
     "data": {
      "text/plain": [
       "Text(0.5, 1.0, 'Class')"
      ]
     },
     "execution_count": 20,
     "metadata": {},
     "output_type": "execute_result"
    },
    {
     "data": {
      "image/png": "[encoded data removed]",
      "text/plain": [
       "<Figure size 640x480 with 1 Axes>"
      ]
     },
     "metadata": {},
     "output_type": "display_data"
    }
   ],
   "source": [
    "import matplotlib.pyplot as plt\n",
    "\n",
    "plt.figure(tight_layout=True)\n",
    "axs = plt.axes()\n",
    "axs.set_xlabel('$x_1$')\n",
    "axs.set_ylabel('$x_2$')\n",
    "\n",
    "classes = np.unique(y)\n",
    "for c_idx, c in enumerate(classes):\n",
    "    target = x[y == c,:]\n",
    "    x1 = target[:, 0]\n",
    "    x2 = target[:, 1]\n",
    "    axs.scatter(x1, x2, cmap=gmm.colors[c_idx], s=15, label=\"Class {}\".format(c))\n",
    "axs.legend()\n",
    "axs.set_title(\"Class\")"
   ]
  },
  {
   "cell_type": "code",
   "execution_count": null,
   "metadata": {},
   "outputs": [],
   "source": [
    "predict_y = gmm.predictor.predict(x)\n",
    "gmm.find_center_mapping()"
   ]
  },
  {
   "cell_type": "code",
   "execution_count": 15,
   "metadata": {},
   "outputs": [
    {
     "data": {
      "image/png": "[encoded data removed]",
      "text/plain": [
       "<Figure size 640x480 with 1 Axes>"
      ]
     },
     "metadata": {},
     "output_type": "display_data"
    }
   ],
   "source": [
    "fig = plt.figure()\n",
    "ax = plt.gca()\n"
   ]
  },
  {
   "cell_type": "code",
   "execution_count": null,
   "metadata": {},
   "outputs": [],
   "source": [
    "212\n",
    "3\n"
   ]
  },
  {
   "cell_type": "code",
   "execution_count": null,
   "metadata": {},
   "outputs": [],
   "source": []
  }
 ],
 "metadata": {
  "kernelspec": {
   "display_name": "Python 3.7.5 ('openfl-tf29')",
   "language": "python",
   "name": "python3"
  },
  "language_info": {
   "codemirror_mode": {
    "name": "ipython",
    "version": 3
   },
   "file_extension": ".py",
   "mimetype": "text/x-python",
   "name": "python",
   "nbconvert_exporter": "python",
   "pygments_lexer": "ipython3",
   "version": "3.7.5"
  },
  "orig_nbformat": 4,
  "vscode": {
   "interpreter": {
    "hash": "23f1e2208477ff619155bcdade05f1da58c9ea4c35d505775ee4a77f606924c3"
   }
  }
 },
 "nbformat": 4,
 "nbformat_minor": 2
}
