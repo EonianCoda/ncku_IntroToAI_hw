{
 "cells": [
  {
   "cell_type": "code",
   "execution_count": 1,
   "metadata": {},
   "outputs": [],
   "source": [
    "import json\n",
    "import numpy as np\n",
    "import matplotlib.pyplot as plt\n",
    "from sklearn.mixture import GaussianMixture as GMM\n",
    "import matplotlib.colors as mcolors\n",
    "from matplotlib.patches import Ellipse\n",
    "\n",
    "\n",
    "def draw_ellipse(position, covariance, ax=None, **kwargs):\n",
    "    ax = ax or plt.gca()\n",
    "    \n",
    "    # Convert covariance to principal axes\n",
    "    if covariance.shape == (2, 2):\n",
    "        U, s, Vt = np.linalg.svd(covariance)\n",
    "        angle = np.degrees(np.arctan2(U[1, 0], U[0, 0]))\n",
    "        width, height = 2 * np.sqrt(s)\n",
    "    else:\n",
    "        angle = 0\n",
    "        width, height = 2 * np.sqrt(covariance)\n",
    "    # Draw the Ellipse\n",
    "    for nsig in range(1, 4):\n",
    "        ax.add_patch(Ellipse(position, nsig * width, nsig * height,\n",
    "                             angle, **kwargs))\n",
    "\n",
    "# Load Data\n",
    "with open('input.json', 'r') as inputFile:\n",
    "    datas = json.load(inputFile)\n",
    "    datas = {key:np.array(data) for key, data in datas.items()}\n",
    "x1, y1 = datas['x1'], datas['y1']\n",
    "x2, y2 = datas['x2'], datas['y2']\n",
    "x3, y3 = datas['x3'], datas['y3']\n",
    "data = [[x1, y1], [x2, y2], [x3, y3]]"
   ]
  },
  {
   "cell_type": "code",
   "execution_count": 22,
   "metadata": {},
   "outputs": [
    {
     "data": {
      "text/plain": [
       "array([[ 1.92668063,  8.67253275],\n",
       "       [-2.51722518, 15.59154145],\n",
       "       [ 4.01189429,  1.73712037],\n",
       "       [-3.14057398,  5.76638109]])"
      ]
     },
     "execution_count": 22,
     "metadata": {},
     "output_type": "execute_result"
    }
   ],
   "source": [
    "x, y = data[0]\n",
    "classes = np.unique(y)\n",
    "num_classes = len(classes)\n",
    "predictor = GMM(n_components=num_classes)\n",
    "predictor.fit(x)\n",
    "\n",
    "center = []\n",
    "for c in classes:\n",
    "    mask = (y == c)\n",
    "    center.append(np.mean(x[mask], axis=0))\n",
    "center = np.array(center)\n",
    "center_predict = predictor.means_\n",
    "\n",
    "distance = np.sqrt(np.sum((center[np.newaxis,...] - center_predict[:, np.newaxis, ...]) ** 2, axis= -1))\n",
    "classes_mapping = np.argmin(distance, axis=-1)\n",
    "center[classes_mapping]"
   ]
  },
  {
   "cell_type": "code",
   "execution_count": null,
   "metadata": {},
   "outputs": [],
   "source": [
    "import matplotlib.pyplot as plt\n"
   ]
  },
  {
   "cell_type": "code",
   "execution_count": 32,
   "metadata": {},
   "outputs": [],
   "source": [
    "# import matplotlib as mpl\n",
    "from sklearn.mixture import GaussianMixture as GMM\n",
    "\n",
    "COLORS = list(mcolors.TABLEAU_COLORS.values())\n",
    "class GMM_predictor(object):\n",
    "    def __init__(self, x: np.ndarray, y: np.ndarray):\n",
    "        self.x = x\n",
    "        self.y = y\n",
    "        self.classes = np.unique(self.y)\n",
    "        self.num_classes = len(self.classes)\n",
    "        self.colors = COLORS[:self.num_classes]\n",
    "        self.predictor = None # sklearn GMM object\n",
    "    def find_center_mapping(self):\n",
    "        if self.predictor == None:\n",
    "            raise ValueError(\"Please call set gmm first\")\n",
    "        center = []\n",
    "        for c in self.classes:\n",
    "            mask = (self.y == c)\n",
    "            center.append(np.mean(x[mask], axis=0))\n",
    "        center = np.array(center)\n",
    "        center_predict = self.predictor.means_\n",
    "\n",
    "        distance = np.sqrt(np.sum((center[np.newaxis,...] - center_predict[:, np.newaxis, ...]) ** 2, axis= -1))\n",
    "        self.classes_mapping = np.argmin(distance, axis=-1)\n",
    "        # center[classes_mapping]\n",
    "    # def draw_(self, title=''):\n",
    "    #     im = plt.figure()\n",
    "    #     plt.xlabel('$x_1$')\n",
    "    #     plt.ylabel('$x_2$')\n",
    "    #     if title != '':\n",
    "    #         plt.title(title)\n",
    "    #     classes = np.unique(y)\n",
    "    #     for c_idx, c in enumerate(classes):\n",
    "    #         target = x[y == c,:]\n",
    "    #         x1 = target[:, 0]\n",
    "    #         x2 = target[:, 1]\n",
    "    #         plt.scatter(x1, x2, cmap=self.colors[c_idx], s=15, label=\"Class {}\".format(c))\n",
    "    #     # Draw center\n",
    "    #     for c_idx, center in enumerate(self.gmm_.means_):\n",
    "    #         plt.scatter(center[0], center[1], marker='x', s=50)\n",
    "    #     # w_factor = 0.2 / self.gmm_.weights_.max()\n",
    "    #     # print(self.gmm_.covariances_.shape)\n",
    "    #     # for c_idx, (pos, covar, w) in enumerate(zip(self.gmm_.means_, self.gmm_.covariances_, self.gmm_.weights_)):\n",
    "    #     #     draw_ellipse(pos, covar, alpha=w * w_factor, cmap=self.colors[c_idx])\n",
    "\n",
    "    #     plt.legend()\n",
    "    #     plt.show()\n",
    "    def set_gmm(self, max_iter:int=100, covariance_type:float='full', tol:float=1e-3):\n",
    "        self.predictor = GMM(n_components=self.num_classes,\n",
    "                            covariance_type=covariance_type,\n",
    "                            max_iter=max_iter, \n",
    "                            tol=tol)\n",
    "        self.predictor.fit(self.x)\n",
    "    # def predict():\n",
    "       \n",
    "    #     predict_y = self.predictor.predict(self.x)\n",
    "    #     return predict_y\n",
    "        # self.draw_points(self.x , predict_y, 'GMM Result')\n",
    "\n",
    "x, y = data[0]\n",
    "\n",
    "gmm = GMM_predictor(x, y)\n",
    "gmm.set_gmm()\n",
    "\n",
    "# predict_y = gmm.predict()\n"
   ]
  },
  {
   "cell_type": "code",
   "execution_count": 34,
   "metadata": {},
   "outputs": [],
   "source": [
    "predict_y = gmm.predictor.predict(x)\n",
    "gmm.find_center_mapping()"
   ]
  },
  {
   "cell_type": "code",
   "execution_count": 39,
   "metadata": {},
   "outputs": [
    {
     "data": {
      "text/plain": [
       "<Figure size 640x480 with 0 Axes>"
      ]
     },
     "metadata": {},
     "output_type": "display_data"
    }
   ],
   "source": [
    "im = plt.figure()\n",
    "\n",
    "\n",
    "# axs.xlabel('$x_1$')\n",
    "# axs.ylabel('$x_2$')\n",
    "\n",
    "# classes = np.unique(y)\n",
    "# for c_idx, c in enumerate(classes):\n",
    "#     target =b x[y == c,:]\n",
    "#     x1 = target[:, 0]\n",
    "#     x2 = target[:, 1]\n",
    "#     im.scatter(x1, x2, cmap=gmm.colors[c_idx], s=15, label=\"Class {}\".format(c))"
   ]
  },
  {
   "cell_type": "code",
   "execution_count": null,
   "metadata": {},
   "outputs": [],
   "source": [
    "212\n",
    "3\n"
   ]
  },
  {
   "cell_type": "code",
   "execution_count": null,
   "metadata": {},
   "outputs": [],
   "source": []
  }
 ],
 "metadata": {
  "kernelspec": {
   "display_name": "Python 3.7.5 ('openfl-tf29')",
   "language": "python",
   "name": "python3"
  },
  "language_info": {
   "codemirror_mode": {
    "name": "ipython",
    "version": 3
   },
   "file_extension": ".py",
   "mimetype": "text/x-python",
   "name": "python",
   "nbconvert_exporter": "python",
   "pygments_lexer": "ipython3",
   "version": "3.7.5"
  },
  "orig_nbformat": 4,
  "vscode": {
   "interpreter": {
    "hash": "23f1e2208477ff619155bcdade05f1da58c9ea4c35d505775ee4a77f606924c3"
   }
  }
 },
 "nbformat": 4,
 "nbformat_minor": 2
}
