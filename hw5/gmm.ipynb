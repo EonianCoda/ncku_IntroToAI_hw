{
 "cells": [
  {
   "cell_type": "code",
   "execution_count": 7,
   "metadata": {},
   "outputs": [],
   "source": [
    "import json\n",
    "import numpy as np\n",
    "import matplotlib.pyplot as plt\n",
    "\n",
    "with open('input.json', 'r') as inputFile:\n",
    "    datas = json.load(inputFile)\n",
    "    datas = {key:np.array(data) for key, data in datas.items()}\n",
    "x1, y1 = datas['x1'], datas['y1']\n",
    "x2, y2 = datas['x2'], datas['y2']\n",
    "x3, y3 = datas['x3'], datas['y3']"
   ]
  },
  {
   "cell_type": "code",
   "execution_count": 28,
   "metadata": {},
   "outputs": [
    {
     "data": {
      "text/plain": [
       "'#1f77b4'"
      ]
     },
     "execution_count": 28,
     "metadata": {},
     "output_type": "execute_result"
    }
   ],
   "source": [
    "import matplotlib.colors as mcolors\n",
    "\n",
    "colors = list(mcolors.TABLEAU_COLORS.keys())\n",
    "mcolors.TABLEAU_COLORS[colors[0]]"
   ]
  },
  {
   "cell_type": "code",
   "execution_count": 9,
   "metadata": {},
   "outputs": [
    {
     "ename": "IndentationError",
     "evalue": "expected an indented block (3276060545.py, line 4)",
     "output_type": "error",
     "traceback": [
      "\u001b[1;36m  Input \u001b[1;32mIn [9]\u001b[1;36m\u001b[0m\n\u001b[1;33m    plt.figure()\u001b[0m\n\u001b[1;37m                ^\u001b[0m\n\u001b[1;31mIndentationError\u001b[0m\u001b[1;31m:\u001b[0m expected an indented block\n"
     ]
    }
   ],
   "source": [
    "import matplotlib as mpl \n",
    "colors = list(mpl.colormaps.values())\n",
    "class GMM_predictor(object):\n",
    "    def __init__(self, x: np.ndarray, y: np.ndarray):\n",
    "        self.x = x\n",
    "        self.y = y\n",
    "        self.classes = np.unique(self.y)\n",
    "        self.colors = colors[:self.classes]\n",
    "        self.num_class = len(self.classes)\n",
    "    def draw_points(self):\n",
    "        for p_x, p_y  in zip(self.x, self.y()\n",
    "\n",
    "plt.figure()\n",
    "plt.xlabel('X')\n",
    "plt.ylabel('y')\n",
    "\n",
    "\n",
    "\n",
    "plt.scatter(x1[:,0], x1[:,1], s=2, label=\"Origin\")\n",
    "\n",
    "\n",
    "\n",
    "# ax.scatter(x0, x1, self.y, c=self.y, cmap='Reds', marker='o', label=\"Origin\")\n",
    "# new_x = np.arange(min(self.x), max(self.x), 0.001)\n",
    "# new_y = self.predict(new_x)\n",
    "# plt.scatter(new_x, new_y, c='r',s=0.5, label=\"Predicted\")\n",
    "# plt.legend()\n",
    "plt.show()"
   ]
  },
  {
   "cell_type": "code",
   "execution_count": null,
   "metadata": {},
   "outputs": [],
   "source": [
    "from sklearn.mixture import GMM\n",
    "gmm = GMM(n_components=4).fit(X)\n",
    "labels = gmm.predict(X)"
   ]
  },
  {
   "cell_type": "code",
   "execution_count": 4,
   "metadata": {},
   "outputs": [
    {
     "ename": "ImportError",
     "evalue": "cannot import name 'GMM' from 'sklearn.mixture' (c:\\Users\\Eonian\\Anaconda3\\lib\\site-packages\\sklearn\\mixture\\__init__.py)",
     "output_type": "error",
     "traceback": [
      "\u001b[1;31m---------------------------------------------------------------------------\u001b[0m",
      "\u001b[1;31mImportError\u001b[0m                               Traceback (most recent call last)",
      "\u001b[1;32md:\\研究所\\上課課程\\碩一\\人工智慧導論\\homework\\hw5\\gmm.ipynb Cell 3\u001b[0m in \u001b[0;36m<cell line: 1>\u001b[1;34m()\u001b[0m\n\u001b[1;32m----> <a href='vscode-notebook-cell:/d%3A/%E7%A0%94%E7%A9%B6%E6%89%80/%E4%B8%8A%E8%AA%B2%E8%AA%B2%E7%A8%8B/%E7%A2%A9%E4%B8%80/%E4%BA%BA%E5%B7%A5%E6%99%BA%E6%85%A7%E5%B0%8E%E8%AB%96/homework/hw5/gmm.ipynb#W4sZmlsZQ%3D%3D?line=0'>1</a>\u001b[0m \u001b[39mfrom\u001b[39;00m \u001b[39msklearn\u001b[39;00m\u001b[39m.\u001b[39;00m\u001b[39mmixture\u001b[39;00m \u001b[39mimport\u001b[39;00m GMM\n",
      "\u001b[1;31mImportError\u001b[0m: cannot import name 'GMM' from 'sklearn.mixture' (c:\\Users\\Eonian\\Anaconda3\\lib\\site-packages\\sklearn\\mixture\\__init__.py)"
     ]
    }
   ],
   "source": [
    "from sklearn.mixture import GMM"
   ]
  },
  {
   "cell_type": "code",
   "execution_count": null,
   "metadata": {},
   "outputs": [],
   "source": []
  }
 ],
 "metadata": {
  "kernelspec": {
   "display_name": "Python 3.9.12 ('base')",
   "language": "python",
   "name": "python3"
  },
  "language_info": {
   "codemirror_mode": {
    "name": "ipython",
    "version": 3
   },
   "file_extension": ".py",
   "mimetype": "text/x-python",
   "name": "python",
   "nbconvert_exporter": "python",
   "pygments_lexer": "ipython3",
   "version": "3.9.12"
  },
  "orig_nbformat": 4,
  "vscode": {
   "interpreter": {
    "hash": "1fe8c35be263d59456f02e056f38c6d17b8ce95edb4a384e5646e7af7ca3397b"
   }
  }
 },
 "nbformat": 4,
 "nbformat_minor": 2
}
